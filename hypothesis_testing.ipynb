{
 "cells": [
  {
   "cell_type": "markdown",
   "id": "1b247b18",
   "metadata": {},
   "source": [
    "## Exercises"
   ]
  },
  {
   "cell_type": "code",
   "execution_count": null,
   "id": "2791bd00",
   "metadata": {},
   "outputs": [],
   "source": [
    "import numpy as np\n",
    "import seaborn as sns\n",
    "import scipy.stats as stats\n",
    "import pandas as pd\n",
    "import matplotlib.pyplot as plt\n",
    "from pydataset import data"
   ]
  },
  {
   "cell_type": "markdown",
   "id": "58ff2b9a",
   "metadata": {},
   "source": [
    "### For each of the following questions, formulate a null and alternative hypothesis (be as specific as you can be), then give an example of what a true positive, true negative, type I and type II errors would look like. Note that some of the questions are intentionally phrased in a vague way. It is your job to reword these as more precise questions that could be tested."
   ]
  },
  {
   "cell_type": "markdown",
   "id": "ade17763",
   "metadata": {},
   "source": [
    "#### 1. Has the network latency gone up since we switched internet service providers?\n",
    "- ISP 1 vs ISP 2 (discrete, boolean, isp_switch)\n",
    "- Network latency (continuous, net_latency)\n",
    "- Comparison of means of two groups (t-test)\n",
    "\n",
    "H{0} : latency (mean a) is less than or equal latency b(mean)\n",
    "\n",
    "H{a}: latency (mean a) is greater than latency (mean b)\n",
    "\n",
    "True Positive: Reject H{0} when H{0} is false (latency went up and we said it did)\n",
    "\n",
    "True Negative: Accept H{0} when H{0} is true (fail to reject H{0} (latency didnt go up and we said it didnt)\n",
    "\n",
    "Type 1 error: Latency did not go up with ISP switch, but we said it did\n",
    "\n",
    "Type 2 error: Latency did go up with ISP switch, but we said it didnt"
   ]
  },
  {
   "cell_type": "markdown",
   "id": "3e5b38f3",
   "metadata": {},
   "source": [
    "#### 2. Is the website redesign any good?\n",
    "\n",
    "- Question: Are we getting more traffic on the website since the website redesign?\n",
    "- Variables: Website redesign (web_redesign),discrete, boolean ('True' or 'False) AND web traffic hits (traffic_rate), continuous variable\n",
    "- H{0}: There is no difference in website traffic since the website redesign\n",
    "- H{a}: There is a significant difference in website trafic since the redesign\n",
    "\n",
    "True Positive: Reject H{0} when H{0} is false (Traffic is greater than before and after website redesign and we said it would be greater)\n",
    "\n",
    "True Negative: Accept H{0} when H{0} is true (fail to reject H{0}) (Traffic is less than or equal to the rate when website was redesigned, and we said it would be less than or equal)\n",
    "\n",
    "Type 1 Error: There is no significant increase in website traffic since the redesign, but we conclude that there is a significant increase in website traffic with website redesign (we reject the null)\n",
    "\n",
    "Type 2 Error: There is a significant increase in website traffic since the redesign, but we conclude that the traffic level is less than or the same as before (we accept the null)\n",
    "\n",
    "\n"
   ]
  },
  {
   "cell_type": "markdown",
   "id": "36336aa0",
   "metadata": {},
   "source": [
    "#### 3.  Is our television ad driving more sales?\n",
    "Question: Did the television add increase sales for the company?\n",
    "\n",
    "Variables: TV_ad (discrete/categorical), boolean (True, False); Sales figures ('sales'), continuous variable\n",
    "\n",
    "H{0}: The introduction of a TV add had no significant impact on sales (sales2 <= sales 1)\n",
    "H{a}: The introduction of a TV add had a significant impact on sales (sales 2 > sales 1)\n",
    "\n",
    "True Positive: Reject H{0} when H{0} is false (The TV add drove more sales, and we said the TV add drove more sales)\n",
    "\n",
    "True Negative: Accept H{0} when H{0} is true (The TV add did not drive more sales, and we agreed with (H0) that there was no signficant increase in sales with the new TV add)\n",
    "\n",
    "Type 1 error: There was no increase in sales with the new TV ad, but we conclude there is a significant increase in sales from the TV ad (we rejected the null)\n",
    "\n",
    "Type 2 error: There was a significant increase in sales with the new TV ad, but we conclude that there is no significant increase in sales (we accepted the null)"
   ]
  },
  {
   "cell_type": "markdown",
   "id": "8bdccfb4",
   "metadata": {},
   "source": [
    "## T-Test Exercises"
   ]
  },
  {
   "cell_type": "markdown",
   "id": "e19ec05a",
   "metadata": {},
   "source": [
    "### 1.  Answer with the type of test you would use (assume normal distribution):\n",
    "\n",
    "- Is there a difference in grades of students on the second floor compared to grades of all students?\n",
    "    - One sample T-Test\n",
    "\n",
    "2. Are adults who drink milk taller than adults who dont drink milk?\n",
    "    - Two sample T-test (Independent T-Test), one tail\n",
    "    \n",
    "\n",
    "3. Is the the price of gas higher in texas or in new mexico?\n",
    "    - Two sample T-Test (Independent T-Test), one tail\n",
    "    \n",
    "    \n",
    "4. Are there differences in stress levels between students who take data science vs students who take web development vs students who take cloud academy?\n",
    "    - ANOVA"
   ]
  },
  {
   "cell_type": "markdown",
   "id": "572e3ef3",
   "metadata": {},
   "source": [
    "### 2. Ace Realty wants to determine whether the average time it takes to sell homes is different for its two offices. A sample of 40 sales from office #1 revealed a mean of 90 days and a standard deviation of 15 days. A sample of 50 sales from office #2 revealed a mean of 100 days and a standard deviation of 20 days. Use a .05 level of significance."
   ]
  },
  {
   "cell_type": "code",
   "execution_count": null,
   "id": "18d9091b",
   "metadata": {},
   "outputs": [],
   "source": [
    "# H0: means are equal between groups (average time to sell at office 1 = office 2)\n",
    "# Ha: means are not equal between groups (average time to sell at office != office 2)\n",
    "# alpha: 0.05\n",
    "# Simulation to generate dataset ##This could have been solved using rvs\n",
    "office_1 = np.random.normal(90, 15, 40)\n",
    "office_2 = np.random.normal(100, 20, 50)"
   ]
  },
  {
   "cell_type": "code",
   "execution_count": null,
   "id": "5cf17414",
   "metadata": {},
   "outputs": [],
   "source": [
    "#Need to ensure variances are equal\n",
    "stat, pval = stats.levene(office_1, office_2)\n",
    "if pval < 0.05:\n",
    "    print('We can reject H0 ==> inequal variance')\n",
    "pval\n",
    "# pval over 0.05 so we assume variances are equal"
   ]
  },
  {
   "cell_type": "code",
   "execution_count": null,
   "id": "8c771c15",
   "metadata": {},
   "outputs": [],
   "source": [
    "#Compute test statistic\n",
    "alpha = 0.05\n",
    "t, p = stats.ttest_ind(office_1, office_2)\n",
    "t, p"
   ]
  },
  {
   "cell_type": "code",
   "execution_count": null,
   "id": "33a5e6e5",
   "metadata": {},
   "outputs": [],
   "source": [
    "#verify significance\n",
    "if p < alpha:\n",
    "    print('We can reject the null hypothesis, there is a significant difference in mean between office 1 and office 2')\n",
    "else:\n",
    "    print('we fail to reject the null hypothesis, there is no difference in mean sales between office 1 and office 2')"
   ]
  },
  {
   "cell_type": "markdown",
   "id": "88f97407",
   "metadata": {},
   "source": [
    "### 3. Load the mpg dataset and use it to answer the following questions:\n",
    "Is there a difference in fuel-efficiency in cars from 2008 vs 1999?"
   ]
  },
  {
   "cell_type": "code",
   "execution_count": null,
   "id": "6fe38bc6",
   "metadata": {},
   "outputs": [],
   "source": [
    "from pydataset import data\n",
    "mpg = data('mpg')\n",
    "mpg.head()"
   ]
  },
  {
   "cell_type": "code",
   "execution_count": null,
   "id": "fd17f958",
   "metadata": {},
   "outputs": [],
   "source": [
    "#Set Hypothesis\n",
    "\n",
    "#H0: There is no significant difference in fuel economy between 99 and 08 car models\n",
    "#Ha: There is a significant difference between the mean of fuel economy in 99 and 08 car models"
   ]
  },
  {
   "cell_type": "code",
   "execution_count": null,
   "id": "c32f8d65",
   "metadata": {},
   "outputs": [],
   "source": [
    "# Create another column for fuel efficiency\n",
    "#Use Harmonic mean because it is a rate\n",
    "mpg['total_mpg'] = 2/(1/mpg.cty + 1/mpg.hwy)"
   ]
  },
  {
   "cell_type": "code",
   "execution_count": null,
   "id": "db10f85a",
   "metadata": {},
   "outputs": [],
   "source": [
    "#place each car year into their own variable\n",
    "cars_99 = mpg[mpg.year == 1999].total_mpg\n",
    "cars_08 = mpg[mpg.year == 2008].total_mpg"
   ]
  },
  {
   "cell_type": "code",
   "execution_count": null,
   "id": "d57d1869",
   "metadata": {},
   "outputs": [],
   "source": [
    "#reset index\n",
    "cars_99.reset_index(inplace = True, drop = True)\n",
    "cars_08.reset_index(inplace = True, drop = True)"
   ]
  },
  {
   "cell_type": "code",
   "execution_count": null,
   "id": "258c6c7b",
   "metadata": {},
   "outputs": [],
   "source": [
    "# n of 99 model year cars\n",
    "len(cars_99)"
   ]
  },
  {
   "cell_type": "code",
   "execution_count": null,
   "id": "6832eee5",
   "metadata": {},
   "outputs": [],
   "source": [
    "#Visualize Data\n",
    "cars_99.hist()\n",
    "cars_08.hist()"
   ]
  },
  {
   "cell_type": "code",
   "execution_count": null,
   "id": "6228e4b4",
   "metadata": {},
   "outputs": [],
   "source": [
    "# n of each car df\n",
    "len(cars_08)\n",
    "len(cars_99)"
   ]
  },
  {
   "cell_type": "code",
   "execution_count": null,
   "id": "4996dae4",
   "metadata": {},
   "outputs": [],
   "source": [
    "#check variance equality\n",
    "alpha = .05\n",
    "stat, pval = stats.levene(cars_99, cars_08)\n",
    "print(pval)\n",
    "# Variances are equal, we can continue"
   ]
  },
  {
   "cell_type": "code",
   "execution_count": null,
   "id": "77c4d9a6",
   "metadata": {},
   "outputs": [],
   "source": [
    "# Compute test statistic\n",
    "tstat, pval = stats.ttest_ind(cars_99, cars_08)\n",
    "tstat, pval"
   ]
  },
  {
   "cell_type": "code",
   "execution_count": null,
   "id": "ccf345c9",
   "metadata": {},
   "outputs": [],
   "source": [
    "if (pval < alpha) and (tstat > 0):\n",
    "    print(\"we can reject the null hypothesis\")\n",
    "else:\n",
    "    print('We fail to reject the null hypothesis: There is no significant difference in fuel economy between 99 and 08 car models')"
   ]
  },
  {
   "cell_type": "markdown",
   "id": "d76b31fb",
   "metadata": {},
   "source": [
    "### Are compact cars more fuel-efficient than the average car?"
   ]
  },
  {
   "cell_type": "code",
   "execution_count": null,
   "id": "954381cb",
   "metadata": {},
   "outputs": [],
   "source": [
    "# One sample test (vs population)\n",
    "# One tailed test\n",
    "mpg.head()"
   ]
  },
  {
   "cell_type": "code",
   "execution_count": null,
   "id": "3d22c14d",
   "metadata": {},
   "outputs": [],
   "source": [
    "#Set Hypothesis\n",
    "\n",
    "#H0: Compact car fuel efficiency is less than or equal to the average car fuel efficiency (mean cc < mean avg)\n",
    "#Ha: Compact cars fuel efficiency is greater than the average car (mean of compact car fuel efficiency > \n",
    "# average car fuel efficiency)"
   ]
  },
  {
   "cell_type": "code",
   "execution_count": null,
   "id": "802e4745",
   "metadata": {},
   "outputs": [],
   "source": [
    "compact_cars = mpg[mpg['class'] == 'compact'].total_mpg"
   ]
  },
  {
   "cell_type": "code",
   "execution_count": null,
   "id": "b489f791",
   "metadata": {},
   "outputs": [],
   "source": [
    "#Visualize problem\n",
    "compact_cars.hist()"
   ]
  },
  {
   "cell_type": "code",
   "execution_count": null,
   "id": "f8dd8e07",
   "metadata": {},
   "outputs": [],
   "source": [
    "#Get test statistic values\n",
    "average_cars = mpg.total_mpg.mean()\n",
    "average_cars"
   ]
  },
  {
   "cell_type": "code",
   "execution_count": null,
   "id": "b5682b5f",
   "metadata": {},
   "outputs": [],
   "source": [
    "#Compute test statistic\n",
    "alpha = 0.05\n",
    "tstat, pval = stats.ttest_1samp(compact_cars, average_cars)"
   ]
  },
  {
   "cell_type": "code",
   "execution_count": null,
   "id": "4ab59c50",
   "metadata": {},
   "outputs": [],
   "source": [
    "tstat, pval"
   ]
  },
  {
   "cell_type": "code",
   "execution_count": null,
   "id": "36ab67f7",
   "metadata": {},
   "outputs": [],
   "source": [
    "#Conclusion\n",
    "#verify significance\n",
    "if (pval / 2 < alpha) and (tstat > 0):\n",
    "    print(\"we can reject the null hypothesis: compact cars are more fuel efficient than the average car\")\n",
    "else:\n",
    "    print('We fail to reject the null hypothesis')"
   ]
  },
  {
   "cell_type": "markdown",
   "id": "0d68b3ea",
   "metadata": {},
   "source": [
    "### Do manual cars get better gas mileage than automatic cars?"
   ]
  },
  {
   "cell_type": "markdown",
   "id": "e1ffacbc",
   "metadata": {},
   "source": [
    "#Hypotheses:\n",
    "\n",
    "$H0$: Manual cars gas mileage <= automatic car gas mileage\n",
    "\n",
    "$Ha$: Manual cars gas mileage > automatic car gas mileage"
   ]
  },
  {
   "cell_type": "code",
   "execution_count": null,
   "id": "08de6d12",
   "metadata": {},
   "outputs": [],
   "source": [
    "#Type of test selection?\n",
    "# One-tailed, two sample t-test"
   ]
  },
  {
   "cell_type": "code",
   "execution_count": null,
   "id": "0ec07e49",
   "metadata": {},
   "outputs": [],
   "source": [
    "#Use value_counts\n",
    "mpg.trans.value_counts()"
   ]
  },
  {
   "cell_type": "code",
   "execution_count": null,
   "id": "84c1d380",
   "metadata": {},
   "outputs": [],
   "source": [
    "man_cars = mpg[mpg.trans.str.contains('manual')].total_mpg\n",
    "auto_cars = mpg[mpg.trans.str.contains('auto')].total_mpg"
   ]
  },
  {
   "cell_type": "code",
   "execution_count": null,
   "id": "85d8de38",
   "metadata": {},
   "outputs": [],
   "source": [
    "#Visualize the data\n",
    "man_cars.hist()"
   ]
  },
  {
   "cell_type": "code",
   "execution_count": null,
   "id": "4d9a9c94",
   "metadata": {},
   "outputs": [],
   "source": [
    "auto_cars.hist()"
   ]
  },
  {
   "cell_type": "code",
   "execution_count": null,
   "id": "11111f2a",
   "metadata": {},
   "outputs": [],
   "source": [
    "#Check n size\n",
    "man_cars.count()\n",
    "auto_cars.count()"
   ]
  },
  {
   "cell_type": "code",
   "execution_count": null,
   "id": "65a2a134",
   "metadata": {},
   "outputs": [],
   "source": [
    "#check variance equality\n",
    "alpha = .05\n",
    "stat, pval = stats.levene(man_cars, auto_cars)\n",
    "print(pval)\n",
    "#Variances are equal, we can continue"
   ]
  },
  {
   "cell_type": "code",
   "execution_count": null,
   "id": "4e4340b7",
   "metadata": {},
   "outputs": [],
   "source": [
    "# Compute test statistic\n",
    "tstat, pval = stats.ttest_ind(man_cars, auto_cars)\n",
    "tstat, pval"
   ]
  },
  {
   "cell_type": "code",
   "execution_count": null,
   "id": "4db386e4",
   "metadata": {},
   "outputs": [],
   "source": [
    "#Conclusion\n",
    "#verify significance\n",
    "if (pval / 2 < alpha) and (tstat > 0):\n",
    "    print(\"we can reject the null hypothesis: gas mileage of manual cars is greater than gas mileage of auto cars\")\n",
    "else:\n",
    "    print('We fail to reject the null hypothesis, gas mileage of manual cars is less than or equal to gas mileage of auto cars')"
   ]
  },
  {
   "cell_type": "markdown",
   "id": "fc1ceb01",
   "metadata": {},
   "source": [
    "## CORRELATION EXERCISES"
   ]
  },
  {
   "cell_type": "markdown",
   "id": "a61b942c",
   "metadata": {},
   "source": [
    "### Answer with the type of stats test you would use (assume normal distribution):\n",
    "- Is there a relationship between the length of your arm and the length of your foot?\n",
    "        - Pearson's R\n",
    "- Do guys and gals quit their jobs at the same rate?\n",
    "         - T-Test\n",
    "- Does the length of time of the lecture correlate with a students grade?\n",
    "        - Pearson's R\n"
   ]
  },
  {
   "cell_type": "code",
   "execution_count": null,
   "id": "35a12cb6",
   "metadata": {},
   "outputs": [],
   "source": [
    "#Use the telco_churn data.\n",
    "#Does tenure correlate with monthly charges?\n",
    "#Total charges?\n",
    "#What happens if you control for phone and internet service?"
   ]
  },
  {
   "cell_type": "code",
   "execution_count": null,
   "id": "1dbfd6fb",
   "metadata": {},
   "outputs": [],
   "source": [
    "# read from the SQL database\n",
    "\n",
    "from env import host, user, password\n",
    "\n",
    "url = f'mysql+pymysql://{user}:{password}@{host}/telco_churn'"
   ]
  },
  {
   "cell_type": "code",
   "execution_count": null,
   "id": "9052208e",
   "metadata": {},
   "outputs": [],
   "source": [
    "sql = '''\n",
    "SELECT\n",
    "    *\n",
    "FROM customers\n",
    "'''\n",
    "\n",
    "telco_churn = pd.read_sql(sql, url)\n",
    "telco_churn.head()"
   ]
  },
  {
   "cell_type": "markdown",
   "id": "cbd5acc5",
   "metadata": {},
   "source": [
    "### Does tenure correlate with monthly charges?"
   ]
  },
  {
   "cell_type": "code",
   "execution_count": null,
   "id": "54a25bc4",
   "metadata": {},
   "outputs": [],
   "source": [
    "customer_tenure = telco_churn.tenure\n",
    "customer_monthly = telco_churn.monthly_charges"
   ]
  },
  {
   "cell_type": "code",
   "execution_count": null,
   "id": "4f98fb23",
   "metadata": {},
   "outputs": [],
   "source": [
    "# State Hypotheses\n",
    "#H_0: There is no linear relationship between customer tenure and customer monthly charges.\n",
    "#H_a: There is a linear relationship between customer tenure and customer monthly charges."
   ]
  },
  {
   "cell_type": "code",
   "execution_count": null,
   "id": "d6f395d5",
   "metadata": {},
   "outputs": [],
   "source": [
    "# Set Variables\n",
    "x = customer_tenure\n",
    "y = customer_monthly\n",
    "alpha = 0.05"
   ]
  },
  {
   "cell_type": "code",
   "execution_count": null,
   "id": "6e34317f",
   "metadata": {},
   "outputs": [],
   "source": [
    "r, p = stats.pearsonr(x, y)\n",
    "print('r =', r)\n",
    "print('p =', p)\n",
    "# appears to be weak moerate positive correlation"
   ]
  },
  {
   "cell_type": "markdown",
   "id": "9e102b35",
   "metadata": {},
   "source": [
    "### Total Charges?"
   ]
  },
  {
   "cell_type": "code",
   "execution_count": null,
   "id": "b9c8df8d",
   "metadata": {},
   "outputs": [],
   "source": [
    "# State Hypotheses\n",
    "#H_0: There is no linear relationship between customer tenure and customer total charges.\n",
    "#H_a: There is a linear relationship between customer tenure and customer total charges."
   ]
  },
  {
   "cell_type": "code",
   "execution_count": null,
   "id": "dcc83942",
   "metadata": {},
   "outputs": [],
   "source": [
    "#Fix this crap:\n",
    "#Class example replaced blank values with nan values, then dropped nan values from dataset\n",
    "telco_churn_fix = telco_churn[telco_churn.tenure != 0]\n",
    "telco_churn_fix['total_charges'] = telco_churn_fix['total_charges'].astype(float)\n",
    "telco_churn_fix.dtypes"
   ]
  },
  {
   "cell_type": "code",
   "execution_count": null,
   "id": "16efe7b1",
   "metadata": {
    "scrolled": true
   },
   "outputs": [],
   "source": [
    "telco_churn_fix.plot.scatter(y='total_charges', x = 'tenure')"
   ]
  },
  {
   "cell_type": "code",
   "execution_count": null,
   "id": "b24ccf70",
   "metadata": {},
   "outputs": [],
   "source": [
    "# Set Variables\n",
    "x = telco_churn_fix.tenure\n",
    "y = telco_churn_fix.total_charges\n",
    "alpha = 0.05"
   ]
  },
  {
   "cell_type": "code",
   "execution_count": null,
   "id": "b138d743",
   "metadata": {},
   "outputs": [],
   "source": [
    "r, p = stats.pearsonr(x, y)\n",
    "print('r =', r)\n",
    "print('p =', p)"
   ]
  },
  {
   "cell_type": "markdown",
   "id": "6a2185e4",
   "metadata": {},
   "source": [
    "### What happens if you control for phone and internet service?"
   ]
  },
  {
   "cell_type": "code",
   "execution_count": null,
   "id": "130ede6e",
   "metadata": {},
   "outputs": [],
   "source": [
    "sns.relplot(data=telco_churn_fix, y='total_charges', x='tenure', col='phone_service')"
   ]
  },
  {
   "cell_type": "code",
   "execution_count": null,
   "id": "56fe85bd",
   "metadata": {},
   "outputs": [],
   "source": [
    "sns.relplot(data=telco_churn_fix, y='total_charges', x='tenure', col='internet_service_type_id')"
   ]
  },
  {
   "cell_type": "markdown",
   "id": "8747eb5b",
   "metadata": {},
   "source": [
    "### Use the employees database. Is there a relationship between how long an employee has been with the company and their salary? Is there a relationship between how long an employee has been with the company and the number of titles they have had?"
   ]
  },
  {
   "cell_type": "code",
   "execution_count": null,
   "id": "7d25d332",
   "metadata": {},
   "outputs": [],
   "source": [
    "from env import host, user, password\n",
    "\n",
    "url = f'mysql+pymysql://{user}:{password}@{host}/employees'"
   ]
  },
  {
   "cell_type": "code",
   "execution_count": null,
   "id": "b4dc529a",
   "metadata": {},
   "outputs": [],
   "source": [
    "sql = '''\n",
    "SELECT\n",
    "    *\n",
    "FROM salaries\n",
    "WHERE salaries.to_date = '9999-01-01'\n",
    "'''\n",
    "\n",
    "salaries = pd.read_sql(sql, url)\n",
    "salaries.head()"
   ]
  },
  {
   "cell_type": "code",
   "execution_count": null,
   "id": "959f3149",
   "metadata": {},
   "outputs": [],
   "source": [
    "# State Hypotheses\n",
    "#H_0: There is no linear relationship between hire date and salary.\n",
    "#H_a: There is a linear relationship between hire date and salary."
   ]
  },
  {
   "cell_type": "code",
   "execution_count": null,
   "id": "bba4ca12",
   "metadata": {},
   "outputs": [],
   "source": [
    "#Visualize Data\n",
    "salaries.from_date.hist()\n",
    "#salaries.salary.hist()"
   ]
  },
  {
   "cell_type": "code",
   "execution_count": null,
   "id": "508045ba",
   "metadata": {},
   "outputs": [],
   "source": [
    "#Convert from object into date time\n",
    "salaries[\"from_date\"]= pd.to_datetime(salaries[\"from_date\"])\n",
    "salaries.from_date = pd.to_numeric(salaries.from_date)"
   ]
  },
  {
   "cell_type": "code",
   "execution_count": null,
   "id": "0affbb92",
   "metadata": {},
   "outputs": [],
   "source": [
    "salaries.head()"
   ]
  },
  {
   "cell_type": "code",
   "execution_count": null,
   "id": "ff22a4b1",
   "metadata": {},
   "outputs": [],
   "source": [
    "# Prepare variables\n",
    "x = salaries.from_date\n",
    "y = salaries.salary\n",
    "alpha = .05"
   ]
  },
  {
   "cell_type": "code",
   "execution_count": null,
   "id": "8adde10a",
   "metadata": {},
   "outputs": [],
   "source": [
    "r, p = stats.pearsonr(x, y)\n",
    "print('r =', r)\n",
    "print('p =', p)"
   ]
  },
  {
   "cell_type": "code",
   "execution_count": null,
   "id": "6bbab3af",
   "metadata": {},
   "outputs": [],
   "source": [
    "#Conclusion\n",
    "# there appears to be no correlation between hire date and salary"
   ]
  },
  {
   "cell_type": "markdown",
   "id": "3e6633de",
   "metadata": {},
   "source": [
    "### Is there a relationship between how long an employee has been with the company and the number of titles they have had?"
   ]
  },
  {
   "cell_type": "code",
   "execution_count": null,
   "id": "e86b9e1f",
   "metadata": {},
   "outputs": [],
   "source": [
    "sql = '''\n",
    "SELECT\n",
    "    *\n",
    "FROM titles t \n",
    "'''\n",
    "\n",
    "titles = pd.read_sql(sql, url)\n",
    "titles.head()"
   ]
  },
  {
   "cell_type": "code",
   "execution_count": null,
   "id": "d723ec63",
   "metadata": {},
   "outputs": [],
   "source": [
    "#Convert from object into date time\n",
    "titles[\"from_date\"]= pd.to_datetime(titles[\"from_date\"])\n",
    "titles.from_date = pd.to_numeric(titles.from_date)"
   ]
  },
  {
   "cell_type": "code",
   "execution_count": null,
   "id": "e6378ab5",
   "metadata": {},
   "outputs": [],
   "source": [
    "# State Hypotheses\n",
    "#H_0: There is no linear relationship between hire date and number of titles.\n",
    "#H_a: There is a linear relationship between hire date and number of titles."
   ]
  },
  {
   "cell_type": "code",
   "execution_count": null,
   "id": "45a9e6d1",
   "metadata": {},
   "outputs": [],
   "source": [
    "#what are our variable types\n",
    "titles.dtypes"
   ]
  },
  {
   "cell_type": "code",
   "execution_count": null,
   "id": "c9d08b83",
   "metadata": {},
   "outputs": [],
   "source": [
    "#Create new column with number of titles\n",
    "# Create the new column based on an existing column.\n",
    "\n",
    "# Using groupby() and count()\n",
    "#title_count = titles.groupby(['emp_no'])['emp_no'].count()\n",
    "#title_count\n",
    "\n",
    "#Remove duplicate emp_no from data\n",
    "#emp_no_unique = titles.emp_no.unique()\n",
    "#\n",
    "#Create dataframe with new data\n",
    "#title_count.dtype"
   ]
  },
  {
   "cell_type": "code",
   "execution_count": null,
   "id": "22ebc98e",
   "metadata": {},
   "outputs": [],
   "source": [
    "#Turn emp_no_unique into a series\n",
    "#emp_no_unique = pd.Series(emp_no_unique) \n",
    "#emp_no_unique\n",
    "title_count = pd.DataFrame(title_count)\n",
    "title_count.columns = ['emp_no', 'total_titles']"
   ]
  },
  {
   "cell_type": "code",
   "execution_count": null,
   "id": "d234e43f",
   "metadata": {},
   "outputs": [],
   "source": [
    "#Visualize the data\n",
    "#titles.from_date.hist()\n",
    "titles.title.hist()"
   ]
  },
  {
   "cell_type": "code",
   "execution_count": null,
   "id": "7b626b98",
   "metadata": {},
   "outputs": [],
   "source": [
    "# Prepare variables\n",
    "x = titles.title\n",
    "y = titles.from_date\n",
    "alpha = .05"
   ]
  },
  {
   "cell_type": "code",
   "execution_count": null,
   "id": "f982c8dd",
   "metadata": {},
   "outputs": [],
   "source": [
    "r, p = stats.pearsonr(x, y)\n",
    "print('r =', r)\n",
    "print('p =', p)"
   ]
  },
  {
   "cell_type": "code",
   "execution_count": null,
   "id": "0642fe18",
   "metadata": {},
   "outputs": [],
   "source": [
    "from pydataset import data\n",
    "sleepstudy = data('sleepstudy')\n",
    "sleepstudy.head()"
   ]
  },
  {
   "cell_type": "markdown",
   "id": "a667ac39",
   "metadata": {},
   "source": [
    "### Is there a relationship between days and reaction time?"
   ]
  },
  {
   "cell_type": "code",
   "execution_count": null,
   "id": "fb3bc58a",
   "metadata": {},
   "outputs": [],
   "source": [
    "# State Hypotheses\n",
    "#H_0: There is no linear relationship between days and reaction time\n",
    "#H_a: There is a linear relationship between days and reaction time"
   ]
  },
  {
   "cell_type": "code",
   "execution_count": null,
   "id": "dd7a8a90",
   "metadata": {},
   "outputs": [],
   "source": [
    "sleepstudy.Days"
   ]
  },
  {
   "cell_type": "code",
   "execution_count": null,
   "id": "6cf27517",
   "metadata": {},
   "outputs": [],
   "source": [
    "#Visualize Data\n",
    "#sleepstudy.Days.hist()\n",
    "sleepstudy.Reaction.hist()"
   ]
  },
  {
   "cell_type": "code",
   "execution_count": null,
   "id": "258b2bb4",
   "metadata": {},
   "outputs": [],
   "source": [
    "# Prepare variables\n",
    "x = sleepstudy.Days\n",
    "y = sleepstudy.Reaction\n",
    "alpha = .05"
   ]
  },
  {
   "cell_type": "code",
   "execution_count": null,
   "id": "fb1662a8",
   "metadata": {},
   "outputs": [],
   "source": [
    "r, p = stats.pearsonr(x, y)\n",
    "print('r =', r)\n",
    "print('p =', p)"
   ]
  },
  {
   "cell_type": "code",
   "execution_count": null,
   "id": "8febc932",
   "metadata": {},
   "outputs": [],
   "source": [
    "#Conclusion\n",
    "#There is a moderately strong positive correlation between days and reaction time.\n",
    "sns.lmplot(data=sleepstudy, y='Reaction', x='Days')"
   ]
  },
  {
   "cell_type": "markdown",
   "id": "2146455c",
   "metadata": {},
   "source": [
    "## Chi-Square testing"
   ]
  },
  {
   "cell_type": "markdown",
   "id": "1f3235d3",
   "metadata": {},
   "source": [
    "#### 1.  Answer with the type of stats test you would use (assume normal distribution):\n",
    "\n",
    "- Do students get better test grades if they have a rubber duck on their desk?\n",
    "     - T-test\n",
    "- Does smoking affect when or not someone has lung cancer?\n",
    "    - Chi-squared\n",
    "- Is gender independent of a person’s blood type?\n",
    "    - Chi-squared\n",
    "- A farming company wants to know if a new fertilizer has improved crop yield or not?\n",
    "    - T-Test\n",
    "- Does the length of time of the lecture correlate with a students grade?\n",
    "    - Pearson's R\n",
    "- Do people with dogs live in apartments more than people with cats?\n",
    "    - Chi-Squared"
   ]
  },
  {
   "cell_type": "markdown",
   "id": "610d76f5",
   "metadata": {},
   "source": [
    "#### 2. Use the following contingency table to help answer the question of whether using a macbook and being a codeup student are independent of each other.\n",
    "\n",
    " \tCodeup Student\tNot Codeup Student\n",
    "Uses a Macbook\t49\t20\n",
    "Doesn't Use A Macbook\t1\t30"
   ]
  },
  {
   "cell_type": "code",
   "execution_count": null,
   "id": "c429de56",
   "metadata": {},
   "outputs": [],
   "source": [
    "#Create dataframe with data\n",
    "macbook = pd.DataFrame({'Codeup_Student': [49, 1], 'Not_Codeup_Student' : [20, 30]}, index=['Uses_Mac', 'No_Mac'])\n",
    "macbook"
   ]
  },
  {
   "cell_type": "markdown",
   "id": "e11a4037",
   "metadata": {},
   "source": [
    "Form hypotheses:\n",
    "#H_0: Using a macbook and being a codeup student are independent of each other\n",
    "#H_a: Using a macbook and being a codeup student are dependent on each other"
   ]
  },
  {
   "cell_type": "code",
   "execution_count": null,
   "id": "1fd54b31",
   "metadata": {},
   "outputs": [],
   "source": [
    "#Compute test statistic\n",
    "chi2, p, degf, expected = stats.chi2_contingency(macbook)\n",
    "chi2, p, degf, expected"
   ]
  },
  {
   "cell_type": "code",
   "execution_count": null,
   "id": "0bc8dac0",
   "metadata": {},
   "outputs": [],
   "source": [
    "#Conclusion\n",
    "if p < 0.05:\n",
    "    print('Reject the null hypothesis')\n",
    "else:\n",
    "    print('Fail to reject the null hypothesis')"
   ]
  },
  {
   "cell_type": "markdown",
   "id": "8eff078d",
   "metadata": {},
   "source": [
    "#### 3. Choose another 2 categorical variables from the mpg dataset and perform a chi2 contingency table test with them. Be sure to state your null and alternative hypotheses."
   ]
  },
  {
   "cell_type": "code",
   "execution_count": null,
   "id": "b53c8b42",
   "metadata": {},
   "outputs": [],
   "source": [
    "mpg = data('mpg')\n",
    "#data('mpg', show_doc = True)"
   ]
  },
  {
   "cell_type": "markdown",
   "id": "c69a3be7",
   "metadata": {},
   "source": [
    "Form hypotheses:\n",
    "\n",
    "#H_0: Vehicle drive is independent from vehicle transmission type\n",
    "\n",
    "#H_a: Vehicle drive is dependent on vehicle transmission type"
   ]
  },
  {
   "cell_type": "code",
   "execution_count": null,
   "id": "d4d8c839",
   "metadata": {},
   "outputs": [],
   "source": [
    "#Find categorical variables\n",
    "mpg.nunique()\n",
    "#Year, drive, fuel, cylinder, class"
   ]
  },
  {
   "cell_type": "code",
   "execution_count": null,
   "id": "87057635",
   "metadata": {},
   "outputs": [],
   "source": [
    "#Choosing drive(front, 4wd, rwd)\n",
    "mpg.drv.value_counts()"
   ]
  },
  {
   "cell_type": "code",
   "execution_count": null,
   "id": "6402ff3e",
   "metadata": {},
   "outputs": [],
   "source": [
    "#Choosing transmission\n",
    "mpg['trans'] = np.where(mpg.trans.str.contains('auto'), 'auto', 'manual')\n",
    "mpg.head()"
   ]
  },
  {
   "cell_type": "code",
   "execution_count": null,
   "id": "c0e71813",
   "metadata": {},
   "outputs": [],
   "source": [
    "mpg_observed = pd.crosstab(mpg.trans, mpg.drv)\n",
    "mpg_observed"
   ]
  },
  {
   "cell_type": "code",
   "execution_count": null,
   "id": "8bc0f2c4",
   "metadata": {},
   "outputs": [],
   "source": [
    "# Compute test statistic\n",
    "chi2, p, df, mpg_expected = stats.chi2_contingency(mpg_observed)\n",
    "chi2, p, df, mpg_expected"
   ]
  },
  {
   "cell_type": "code",
   "execution_count": null,
   "id": "6245aa11",
   "metadata": {},
   "outputs": [],
   "source": [
    "#Conclusion\n",
    "if p < 0.05:\n",
    "    print('Reject the null hypothesis')\n",
    "else:\n",
    "    print('Fail to reject the null hypothesis')"
   ]
  },
  {
   "cell_type": "markdown",
   "id": "4e3f95f6",
   "metadata": {},
   "source": [
    "#### 4. Use the data from the employees database to answer these questions:\n",
    "\n"
   ]
  },
  {
   "cell_type": "code",
   "execution_count": null,
   "id": "d3432780",
   "metadata": {},
   "outputs": [],
   "source": [
    "#### Is an employee's gender independent of whether an employee works in sales\n",
    "## or marketing? (only look at current employees)"
   ]
  },
  {
   "cell_type": "code",
   "execution_count": null,
   "id": "142dadd6",
   "metadata": {},
   "outputs": [],
   "source": [
    "# read from the SQL database\n",
    "from env import host, user, password\n",
    "url = f'mysql+pymysql://{user}:{password}@{host}/employees'"
   ]
  },
  {
   "cell_type": "code",
   "execution_count": null,
   "id": "f08b4e4a",
   "metadata": {},
   "outputs": [],
   "source": [
    "sql = '''\n",
    "SELECT e.emp_no, e.gender, d.dept_name, dm.dept_no\n",
    "FROM employees e\n",
    "JOIN dept_emp de USING(emp_no)\n",
    "JOIN departments d USING(dept_no)\n",
    "LEFT JOIN dept_manager dm USING(emp_no)\n",
    "WHERE de.to_date > NOW()\n",
    "'''"
   ]
  },
  {
   "cell_type": "code",
   "execution_count": null,
   "id": "d216c5da",
   "metadata": {},
   "outputs": [],
   "source": [
    "employees = pd.read_sql(sql, url)\n",
    "employees.head()"
   ]
  },
  {
   "cell_type": "code",
   "execution_count": null,
   "id": "2668a03a",
   "metadata": {},
   "outputs": [],
   "source": [
    "#Form hypotheses:\n",
    "\n",
    "#H_0: Employee gender is independent from employee department\n",
    "\n",
    "#H_a: Employee gender is dependent on employee department"
   ]
  },
  {
   "cell_type": "code",
   "execution_count": null,
   "id": "ce4ddbf1",
   "metadata": {},
   "outputs": [],
   "source": [
    "#Take Sales and Marketing from employees table\n",
    "emp_departments = employees[(employees.dept_name == 'Sales') | (employees.dept_name == 'Marketing')]\n",
    "emp_departments.head()"
   ]
  },
  {
   "cell_type": "code",
   "execution_count": null,
   "id": "a9986911",
   "metadata": {},
   "outputs": [],
   "source": [
    "#Make Crosstab\n",
    "emp_observed = pd.crosstab(employees.gender, emp_departments.dept_name)\n",
    "emp_observed"
   ]
  },
  {
   "cell_type": "code",
   "execution_count": null,
   "id": "70248719",
   "metadata": {},
   "outputs": [],
   "source": [
    "# Compute test statistic\n",
    "chi2, p, df, emp_expected = stats.chi2_contingency(emp_observed)\n",
    "chi2, p, df, emp_expected"
   ]
  },
  {
   "cell_type": "code",
   "execution_count": null,
   "id": "d96397bd",
   "metadata": {},
   "outputs": [],
   "source": [
    "#Conclusion\n",
    "if p < 0.05:\n",
    "    print('Reject the null hypothesis: There is a relationship between employee gender and department')\n",
    "else:\n",
    "    print('Fail to reject the null hypothesis: there appears to be no relationship between employee gender and whether or not they work in marketing or sales')"
   ]
  },
  {
   "cell_type": "markdown",
   "id": "f0ced925",
   "metadata": {},
   "source": [
    "#### Is an employee's gender independent of whether or not they are or have been a manager?"
   ]
  },
  {
   "cell_type": "code",
   "execution_count": null,
   "id": "4bdc16af",
   "metadata": {},
   "outputs": [],
   "source": [
    "#Form hypotheses:\n",
    "\n",
    "#H_0: Employee gender is independent from whether or not they have been a manager\n",
    "\n",
    "#H_a: There is an association between gender and whether a person has been a manager"
   ]
  },
  {
   "cell_type": "code",
   "execution_count": null,
   "id": "15bb5a80",
   "metadata": {},
   "outputs": [],
   "source": [
    "employees.dept_no.head()"
   ]
  },
  {
   "cell_type": "code",
   "execution_count": null,
   "id": "4acee45d",
   "metadata": {},
   "outputs": [],
   "source": [
    "employees['was_manager'] = np.where(employees.dept_no.isnull(), False, True)\n",
    "employees.head()"
   ]
  },
  {
   "cell_type": "code",
   "execution_count": null,
   "id": "79e5d2b0",
   "metadata": {},
   "outputs": [],
   "source": [
    "len(employees[employees.was_manager == True])"
   ]
  },
  {
   "cell_type": "code",
   "execution_count": null,
   "id": "4c016055",
   "metadata": {},
   "outputs": [],
   "source": [
    "#Make Crosstab\n",
    "manager_observed = pd.crosstab(employees.gender, employees.was_manager)\n",
    "manager_observed"
   ]
  },
  {
   "cell_type": "code",
   "execution_count": null,
   "id": "5daab078",
   "metadata": {},
   "outputs": [],
   "source": [
    "# Compute test statistic\n",
    "chi2, p, df, manager_expected = stats.chi2_contingency(manager_observed)\n",
    "chi2, p, df, manager_expected"
   ]
  },
  {
   "cell_type": "code",
   "execution_count": null,
   "id": "ba9a3826",
   "metadata": {},
   "outputs": [],
   "source": [
    "#Conclusion\n",
    "if p < 0.05:\n",
    "    print('Reject the null hypothesis: There is a relationship between employee gender and management position')\n",
    "else:\n",
    "    print('Fail to reject the null hypothesis: there appears to be no relationship between employee gender and management position')"
   ]
  },
  {
   "cell_type": "code",
   "execution_count": null,
   "id": "bd347f2d",
   "metadata": {},
   "outputs": [],
   "source": []
  }
 ],
 "metadata": {
  "kernelspec": {
   "display_name": "Python 3 (ipykernel)",
   "language": "python",
   "name": "python3"
  },
  "language_info": {
   "codemirror_mode": {
    "name": "ipython",
    "version": 3
   },
   "file_extension": ".py",
   "mimetype": "text/x-python",
   "name": "python",
   "nbconvert_exporter": "python",
   "pygments_lexer": "ipython3",
   "version": "3.9.12"
  }
 },
 "nbformat": 4,
 "nbformat_minor": 5
}
