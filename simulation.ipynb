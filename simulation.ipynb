{
 "cells": [
  {
   "cell_type": "code",
   "execution_count": 19,
   "id": "95082569",
   "metadata": {},
   "outputs": [],
   "source": [
    "#imports\n",
    "import numpy as np\n",
    "import pandas as pd\n",
    "import matplotlib.pyplot as plt\n",
    "%config InlineBackend.figure_format = 'retina'\n",
    "import viz # curriculum example visualizations\n",
    "\n",
    "np.random.seed(29)"
   ]
  },
  {
   "cell_type": "code",
   "execution_count": 13,
   "id": "e951d641",
   "metadata": {},
   "outputs": [
    {
     "data": {
      "text/plain": [
       "0.1606"
      ]
     },
     "execution_count": 13,
     "metadata": {},
     "output_type": "execute_result"
    }
   ],
   "source": [
    "# 1. How likely is it that you roll doubles when rolling two dice?\n",
    "# give two variables to two separate rolls\n",
    "n_trials = nrows = 10_000 # reminder of rows and columns when putting into function\n",
    "n_dice = ncols = 1\n",
    "roll_1 = np.random.choice([1, 2, 3, 4, 5, 6], size = (n_trials, n_dice)) \n",
    "roll_2 = np.random.choice([1, 2, 3, 4, 5, 6], size = (n_trials, n_dice))\n",
    "roll_test = roll_1 == roll_2\n",
    "roll_test.mean()"
   ]
  },
  {
   "cell_type": "code",
   "execution_count": 36,
   "id": "2df50cf2",
   "metadata": {},
   "outputs": [],
   "source": [
    "# 2.  If you flip 8 coins, what is the probability of getting exactly 3 heads? What is the \n",
    "# probability of getting more than 3 heads?\n",
    "n_trials = nrows = 10_000 # reminder of rows and columns when putting into function\n",
    "n_coin = ncols = 8\n",
    "#Using random.choice()\n",
    "coin_flip = np.random.choice([True, False], size = (n_trials, n_coin))\n",
    "coin_flip\n",
    "sums_by_trial = coin_flip.sum(axis=1)"
   ]
  },
  {
   "cell_type": "code",
   "execution_count": 38,
   "id": "a28536d6",
   "metadata": {},
   "outputs": [],
   "source": [
    "coin_flip = pd.DataFrame(coin_flip)\n",
    "coin_flip"
   ]
  },
  {
   "cell_type": "code",
   "execution_count": 40,
   "id": "971f2d59",
   "metadata": {},
   "outputs": [],
   "source": [
    "sums_by_trial = pd.Series(sums_by_trial)"
   ]
  },
  {
   "cell_type": "code",
   "execution_count": 41,
   "id": "afc159ee",
   "metadata": {},
   "outputs": [],
   "source": [
    "coin_flip['sums_by_trial'] = sums_by_trial"
   ]
  },
  {
   "cell_type": "code",
   "execution_count": 42,
   "id": "147fabf2",
   "metadata": {},
   "outputs": [
    {
     "data": {
      "text/html": [
       "<div>\n",
       "<style scoped>\n",
       "    .dataframe tbody tr th:only-of-type {\n",
       "        vertical-align: middle;\n",
       "    }\n",
       "\n",
       "    .dataframe tbody tr th {\n",
       "        vertical-align: top;\n",
       "    }\n",
       "\n",
       "    .dataframe thead th {\n",
       "        text-align: right;\n",
       "    }\n",
       "</style>\n",
       "<table border=\"1\" class=\"dataframe\">\n",
       "  <thead>\n",
       "    <tr style=\"text-align: right;\">\n",
       "      <th></th>\n",
       "      <th>0</th>\n",
       "      <th>1</th>\n",
       "      <th>2</th>\n",
       "      <th>3</th>\n",
       "      <th>4</th>\n",
       "      <th>5</th>\n",
       "      <th>6</th>\n",
       "      <th>7</th>\n",
       "      <th>sums_by_trial</th>\n",
       "    </tr>\n",
       "  </thead>\n",
       "  <tbody>\n",
       "    <tr>\n",
       "      <th>0</th>\n",
       "      <td>True</td>\n",
       "      <td>True</td>\n",
       "      <td>True</td>\n",
       "      <td>False</td>\n",
       "      <td>True</td>\n",
       "      <td>True</td>\n",
       "      <td>False</td>\n",
       "      <td>False</td>\n",
       "      <td>5</td>\n",
       "    </tr>\n",
       "    <tr>\n",
       "      <th>1</th>\n",
       "      <td>True</td>\n",
       "      <td>True</td>\n",
       "      <td>True</td>\n",
       "      <td>True</td>\n",
       "      <td>False</td>\n",
       "      <td>True</td>\n",
       "      <td>True</td>\n",
       "      <td>True</td>\n",
       "      <td>7</td>\n",
       "    </tr>\n",
       "    <tr>\n",
       "      <th>2</th>\n",
       "      <td>False</td>\n",
       "      <td>False</td>\n",
       "      <td>True</td>\n",
       "      <td>False</td>\n",
       "      <td>True</td>\n",
       "      <td>True</td>\n",
       "      <td>True</td>\n",
       "      <td>False</td>\n",
       "      <td>4</td>\n",
       "    </tr>\n",
       "    <tr>\n",
       "      <th>3</th>\n",
       "      <td>False</td>\n",
       "      <td>True</td>\n",
       "      <td>False</td>\n",
       "      <td>True</td>\n",
       "      <td>False</td>\n",
       "      <td>True</td>\n",
       "      <td>False</td>\n",
       "      <td>True</td>\n",
       "      <td>4</td>\n",
       "    </tr>\n",
       "    <tr>\n",
       "      <th>4</th>\n",
       "      <td>False</td>\n",
       "      <td>True</td>\n",
       "      <td>True</td>\n",
       "      <td>False</td>\n",
       "      <td>False</td>\n",
       "      <td>True</td>\n",
       "      <td>False</td>\n",
       "      <td>False</td>\n",
       "      <td>3</td>\n",
       "    </tr>\n",
       "  </tbody>\n",
       "</table>\n",
       "</div>"
      ],
      "text/plain": [
       "       0      1      2      3      4     5      6      7  sums_by_trial\n",
       "0   True   True   True  False   True  True  False  False              5\n",
       "1   True   True   True   True  False  True   True   True              7\n",
       "2  False  False   True  False   True  True   True  False              4\n",
       "3  False   True  False   True  False  True  False   True              4\n",
       "4  False   True   True  False  False  True  False  False              3"
      ]
     },
     "execution_count": 42,
     "metadata": {},
     "output_type": "execute_result"
    }
   ],
   "source": [
    "coin_flip.head()"
   ]
  },
  {
   "cell_type": "code",
   "execution_count": 46,
   "id": "30115d13",
   "metadata": {},
   "outputs": [
    {
     "data": {
      "text/plain": [
       "0.2177"
      ]
     },
     "execution_count": 46,
     "metadata": {},
     "output_type": "execute_result"
    }
   ],
   "source": [
    "len(coin_flip[sums_by_trial == 3]) / n_trials"
   ]
  },
  {
   "cell_type": "code",
   "execution_count": 62,
   "id": "7d2fd785",
   "metadata": {},
   "outputs": [
    {
     "data": {
      "text/plain": [
       "array([[0.16610135, 0.88029657],\n",
       "       [0.75116892, 0.08187291],\n",
       "       [0.85216105, 0.68135606],\n",
       "       ...,\n",
       "       [0.42683964, 0.80850087],\n",
       "       [0.3245047 , 0.87573612],\n",
       "       [0.68853677, 0.92400793]])"
      ]
     },
     "execution_count": 62,
     "metadata": {},
     "output_type": "execute_result"
    }
   ],
   "source": [
    "# There are approximitely 3 web development cohorts for every 1 data science cohort at Codeup. \n",
    "# Assuming that Codeup randomly selects an alumni to put on a billboard, what are the odds that\n",
    "# the two billboards I drive past both have data science students on them?\n",
    "\n",
    "p_ds = .25\n",
    "ndays = ncols = 2\n",
    "n_simulated_billboards = nrows = 10**5\n",
    "\n",
    "billboards = np.random.random(size =(nrows, ncols))\n",
    "billboards"
   ]
  },
  {
   "cell_type": "code",
   "execution_count": 64,
   "id": "44a825b7",
   "metadata": {},
   "outputs": [
    {
     "data": {
      "text/plain": [
       "array([['wd', 'wd'],\n",
       "       ['wd', 'wd'],\n",
       "       ['wd', 'ds'],\n",
       "       ...,\n",
       "       ['wd', 'wd'],\n",
       "       ['wd', 'wd'],\n",
       "       ['ds', 'ds']], dtype='<U2')"
      ]
     },
     "execution_count": 64,
     "metadata": {},
     "output_type": "execute_result"
    }
   ],
   "source": [
    "n_trials = nrows = 10_000 # reminder of rows and columns when putting into function\n",
    "n_simulated_billboards = ncols = 2\n",
    "#give array of options (1-6) and size \n",
    "billboards = np.random.choice(['ds', 'wd', 'wd', 'wd'], size = (nrows, ncols)) #this produces two dimensional array\n",
    "billboards"
   ]
  },
  {
   "cell_type": "code",
   "execution_count": 66,
   "id": "ae372c0c",
   "metadata": {},
   "outputs": [
    {
     "data": {
      "text/html": [
       "<div>\n",
       "<style scoped>\n",
       "    .dataframe tbody tr th:only-of-type {\n",
       "        vertical-align: middle;\n",
       "    }\n",
       "\n",
       "    .dataframe tbody tr th {\n",
       "        vertical-align: top;\n",
       "    }\n",
       "\n",
       "    .dataframe thead th {\n",
       "        text-align: right;\n",
       "    }\n",
       "</style>\n",
       "<table border=\"1\" class=\"dataframe\">\n",
       "  <thead>\n",
       "    <tr style=\"text-align: right;\">\n",
       "      <th></th>\n",
       "      <th>0</th>\n",
       "      <th>1</th>\n",
       "    </tr>\n",
       "  </thead>\n",
       "  <tbody>\n",
       "    <tr>\n",
       "      <th>0</th>\n",
       "      <td>wd</td>\n",
       "      <td>wd</td>\n",
       "    </tr>\n",
       "    <tr>\n",
       "      <th>1</th>\n",
       "      <td>wd</td>\n",
       "      <td>wd</td>\n",
       "    </tr>\n",
       "    <tr>\n",
       "      <th>2</th>\n",
       "      <td>wd</td>\n",
       "      <td>ds</td>\n",
       "    </tr>\n",
       "    <tr>\n",
       "      <th>3</th>\n",
       "      <td>wd</td>\n",
       "      <td>wd</td>\n",
       "    </tr>\n",
       "    <tr>\n",
       "      <th>4</th>\n",
       "      <td>wd</td>\n",
       "      <td>wd</td>\n",
       "    </tr>\n",
       "  </tbody>\n",
       "</table>\n",
       "</div>"
      ],
      "text/plain": [
       "    0   1\n",
       "0  wd  wd\n",
       "1  wd  wd\n",
       "2  wd  ds\n",
       "3  wd  wd\n",
       "4  wd  wd"
      ]
     },
     "execution_count": 66,
     "metadata": {},
     "output_type": "execute_result"
    }
   ],
   "source": [
    "billboards = pd.DataFrame(billboards)\n",
    "billboards.head()"
   ]
  },
  {
   "cell_type": "code",
   "execution_count": 75,
   "id": "77156c71",
   "metadata": {},
   "outputs": [
    {
     "data": {
      "text/plain": [
       "array([[ 2.71536449,  3.69013856,  2.60075393,  1.23476397,  1.86190373],\n",
       "       [ 5.96350878,  3.18919501,  2.73756286, -0.95205431,  6.01967756],\n",
       "       [ 4.24304369,  1.74462763,  2.85938027,  4.11955876,  5.66732967],\n",
       "       ...,\n",
       "       [ 1.13025419,  4.79546085,  5.32894694,  2.66159565,  0.93405699],\n",
       "       [ 1.76715843,  2.2624347 , -1.66304649,  2.49107557,  3.41849126],\n",
       "       [ 1.90766015,  3.84871058,  6.54158316,  0.69936079,  3.93617313]])"
      ]
     },
     "execution_count": 75,
     "metadata": {},
     "output_type": "execute_result"
    }
   ],
   "source": [
    "# 4 Codeup students buy, on average, 3 poptart packages with a standard deviation of 1.5 a day from\n",
    "# the snack vending machine. If on monday the machine is restocked with 17 poptart packages, how likely \n",
    "# is it that I will be able to buy some poptarts on Friday afternoon? \n",
    "# (Remember, if you have mean and standard deviation, use the np.random.normal) You'll need \n",
    "# to make a judgement call on how to handle some of your values\n",
    "\n",
    "n_simulations = nrows = 10**5 # number of trials\n",
    "n_days = ncols = 5 # number of elements in each trial\n",
    "\n",
    "poptarts = np.random.normal(loc = 3.0, scale = 1.5, size = (nrows, n_days))\n",
    "poptarts"
   ]
  },
  {
   "cell_type": "code",
   "execution_count": 76,
   "id": "842681b0",
   "metadata": {},
   "outputs": [
    {
     "data": {
      "text/html": [
       "<div>\n",
       "<style scoped>\n",
       "    .dataframe tbody tr th:only-of-type {\n",
       "        vertical-align: middle;\n",
       "    }\n",
       "\n",
       "    .dataframe tbody tr th {\n",
       "        vertical-align: top;\n",
       "    }\n",
       "\n",
       "    .dataframe thead th {\n",
       "        text-align: right;\n",
       "    }\n",
       "</style>\n",
       "<table border=\"1\" class=\"dataframe\">\n",
       "  <thead>\n",
       "    <tr style=\"text-align: right;\">\n",
       "      <th></th>\n",
       "      <th>day_1</th>\n",
       "      <th>day_2</th>\n",
       "      <th>day_3</th>\n",
       "      <th>day_4</th>\n",
       "      <th>day_5</th>\n",
       "    </tr>\n",
       "  </thead>\n",
       "  <tbody>\n",
       "    <tr>\n",
       "      <th>0</th>\n",
       "      <td>2.715364</td>\n",
       "      <td>3.690139</td>\n",
       "      <td>2.600754</td>\n",
       "      <td>1.234764</td>\n",
       "      <td>1.861904</td>\n",
       "    </tr>\n",
       "    <tr>\n",
       "      <th>1</th>\n",
       "      <td>5.963509</td>\n",
       "      <td>3.189195</td>\n",
       "      <td>2.737563</td>\n",
       "      <td>-0.952054</td>\n",
       "      <td>6.019678</td>\n",
       "    </tr>\n",
       "    <tr>\n",
       "      <th>2</th>\n",
       "      <td>4.243044</td>\n",
       "      <td>1.744628</td>\n",
       "      <td>2.859380</td>\n",
       "      <td>4.119559</td>\n",
       "      <td>5.667330</td>\n",
       "    </tr>\n",
       "    <tr>\n",
       "      <th>3</th>\n",
       "      <td>1.903127</td>\n",
       "      <td>1.847196</td>\n",
       "      <td>3.365972</td>\n",
       "      <td>1.410989</td>\n",
       "      <td>3.468523</td>\n",
       "    </tr>\n",
       "    <tr>\n",
       "      <th>4</th>\n",
       "      <td>2.681450</td>\n",
       "      <td>2.669647</td>\n",
       "      <td>1.164265</td>\n",
       "      <td>1.384163</td>\n",
       "      <td>1.042319</td>\n",
       "    </tr>\n",
       "  </tbody>\n",
       "</table>\n",
       "</div>"
      ],
      "text/plain": [
       "      day_1     day_2     day_3     day_4     day_5\n",
       "0  2.715364  3.690139  2.600754  1.234764  1.861904\n",
       "1  5.963509  3.189195  2.737563 -0.952054  6.019678\n",
       "2  4.243044  1.744628  2.859380  4.119559  5.667330\n",
       "3  1.903127  1.847196  3.365972  1.410989  3.468523\n",
       "4  2.681450  2.669647  1.164265  1.384163  1.042319"
      ]
     },
     "execution_count": 76,
     "metadata": {},
     "output_type": "execute_result"
    }
   ],
   "source": [
    "poptarts_df = pd.DataFrame(poptarts, columns=['day_1', 'day_2', 'day_3', 'day_4', 'day_5'])\n",
    "poptarts_df.head()"
   ]
  },
  {
   "cell_type": "code",
   "execution_count": 91,
   "id": "21d08a7a",
   "metadata": {},
   "outputs": [
    {
     "data": {
      "text/plain": [
       "0         True\n",
       "1         True\n",
       "2         True\n",
       "3         True\n",
       "4         True\n",
       "         ...  \n",
       "99995     True\n",
       "99996     True\n",
       "99997    False\n",
       "99998     True\n",
       "99999     True\n",
       "Name: day_5, Length: 100000, dtype: bool"
      ]
     },
     "execution_count": 91,
     "metadata": {},
     "output_type": "execute_result"
    }
   ],
   "source": [
    "poptarts_df.day_5 >= 1"
   ]
  },
  {
   "cell_type": "code",
   "execution_count": null,
   "id": "fb43a872",
   "metadata": {},
   "outputs": [],
   "source": []
  }
 ],
 "metadata": {
  "kernelspec": {
   "display_name": "Python 3 (ipykernel)",
   "language": "python",
   "name": "python3"
  },
  "language_info": {
   "codemirror_mode": {
    "name": "ipython",
    "version": 3
   },
   "file_extension": ".py",
   "mimetype": "text/x-python",
   "name": "python",
   "nbconvert_exporter": "python",
   "pygments_lexer": "ipython3",
   "version": "3.9.12"
  }
 },
 "nbformat": 4,
 "nbformat_minor": 5
}
