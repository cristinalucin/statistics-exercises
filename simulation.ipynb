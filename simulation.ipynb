{
 "cells": [
  {
   "cell_type": "code",
   "execution_count": 3,
   "id": "95082569",
   "metadata": {},
   "outputs": [],
   "source": [
    "#imports\n",
    "import numpy as np\n",
    "import pandas as pd\n",
    "import matplotlib.pyplot as plt\n",
    "%config InlineBackend.figure_format = 'retina'\n",
    "import viz # curriculum example visualizations\n",
    "\n",
    "np.random.seed(29)"
   ]
  },
  {
   "cell_type": "markdown",
   "id": "4a608725",
   "metadata": {},
   "source": [
    "## Exercise # 1"
   ]
  },
  {
   "cell_type": "code",
   "execution_count": 4,
   "id": "e951d641",
   "metadata": {
    "scrolled": true
   },
   "outputs": [
    {
     "data": {
      "text/plain": [
       "0.1613"
      ]
     },
     "execution_count": 4,
     "metadata": {},
     "output_type": "execute_result"
    }
   ],
   "source": [
    "# How likely is it that you roll doubles when rolling two dice? give two variables to two separate rolls\n",
    "\n",
    "n_trials = nrows = 10_000 # reminder of rows and columns when putting into function\n",
    "n_dice = ncols = 1\n",
    "roll_1 = np.random.choice([1, 2, 3, 4, 5, 6], size = (n_trials, n_dice)) \n",
    "roll_2 = np.random.choice([1, 2, 3, 4, 5, 6], size = (n_trials, n_dice))\n",
    "roll_test = roll_1 == roll_2\n",
    "roll_test.mean()"
   ]
  },
  {
   "cell_type": "markdown",
   "id": "e62de16b",
   "metadata": {},
   "source": [
    "## Exercise 2"
   ]
  },
  {
   "cell_type": "code",
   "execution_count": 42,
   "id": "2df50cf2",
   "metadata": {},
   "outputs": [],
   "source": [
    "#If you flip 8 coins, what is the probability of getting exactly 3 heads? \n",
    "# What is the  probability of getting more than 3 heads?\n",
    "\n",
    "n_trials = nrows = 10_000 # reminder of rows and columns when putting into function\n",
    "n_coin = ncols = 8\n",
    "#Using random.choice()\n",
    "coin_flip = np.random.choice([True, False], size = (n_trials, n_coin))\n",
    "coin_flip\n",
    "sums_by_trial = coin_flip.sum(axis=1)"
   ]
  },
  {
   "cell_type": "code",
   "execution_count": 43,
   "id": "a28536d6",
   "metadata": {},
   "outputs": [
    {
     "data": {
      "text/html": [
       "<div>\n",
       "<style scoped>\n",
       "    .dataframe tbody tr th:only-of-type {\n",
       "        vertical-align: middle;\n",
       "    }\n",
       "\n",
       "    .dataframe tbody tr th {\n",
       "        vertical-align: top;\n",
       "    }\n",
       "\n",
       "    .dataframe thead th {\n",
       "        text-align: right;\n",
       "    }\n",
       "</style>\n",
       "<table border=\"1\" class=\"dataframe\">\n",
       "  <thead>\n",
       "    <tr style=\"text-align: right;\">\n",
       "      <th></th>\n",
       "      <th>0</th>\n",
       "      <th>1</th>\n",
       "      <th>2</th>\n",
       "      <th>3</th>\n",
       "      <th>4</th>\n",
       "      <th>5</th>\n",
       "      <th>6</th>\n",
       "      <th>7</th>\n",
       "    </tr>\n",
       "  </thead>\n",
       "  <tbody>\n",
       "    <tr>\n",
       "      <th>0</th>\n",
       "      <td>True</td>\n",
       "      <td>True</td>\n",
       "      <td>True</td>\n",
       "      <td>False</td>\n",
       "      <td>False</td>\n",
       "      <td>True</td>\n",
       "      <td>False</td>\n",
       "      <td>False</td>\n",
       "    </tr>\n",
       "    <tr>\n",
       "      <th>1</th>\n",
       "      <td>False</td>\n",
       "      <td>True</td>\n",
       "      <td>True</td>\n",
       "      <td>False</td>\n",
       "      <td>True</td>\n",
       "      <td>False</td>\n",
       "      <td>False</td>\n",
       "      <td>False</td>\n",
       "    </tr>\n",
       "    <tr>\n",
       "      <th>2</th>\n",
       "      <td>False</td>\n",
       "      <td>True</td>\n",
       "      <td>True</td>\n",
       "      <td>True</td>\n",
       "      <td>False</td>\n",
       "      <td>True</td>\n",
       "      <td>False</td>\n",
       "      <td>False</td>\n",
       "    </tr>\n",
       "    <tr>\n",
       "      <th>3</th>\n",
       "      <td>True</td>\n",
       "      <td>False</td>\n",
       "      <td>False</td>\n",
       "      <td>False</td>\n",
       "      <td>False</td>\n",
       "      <td>False</td>\n",
       "      <td>True</td>\n",
       "      <td>True</td>\n",
       "    </tr>\n",
       "    <tr>\n",
       "      <th>4</th>\n",
       "      <td>False</td>\n",
       "      <td>True</td>\n",
       "      <td>False</td>\n",
       "      <td>False</td>\n",
       "      <td>True</td>\n",
       "      <td>True</td>\n",
       "      <td>True</td>\n",
       "      <td>True</td>\n",
       "    </tr>\n",
       "    <tr>\n",
       "      <th>...</th>\n",
       "      <td>...</td>\n",
       "      <td>...</td>\n",
       "      <td>...</td>\n",
       "      <td>...</td>\n",
       "      <td>...</td>\n",
       "      <td>...</td>\n",
       "      <td>...</td>\n",
       "      <td>...</td>\n",
       "    </tr>\n",
       "    <tr>\n",
       "      <th>9995</th>\n",
       "      <td>True</td>\n",
       "      <td>False</td>\n",
       "      <td>True</td>\n",
       "      <td>False</td>\n",
       "      <td>False</td>\n",
       "      <td>False</td>\n",
       "      <td>True</td>\n",
       "      <td>True</td>\n",
       "    </tr>\n",
       "    <tr>\n",
       "      <th>9996</th>\n",
       "      <td>False</td>\n",
       "      <td>False</td>\n",
       "      <td>True</td>\n",
       "      <td>False</td>\n",
       "      <td>False</td>\n",
       "      <td>False</td>\n",
       "      <td>False</td>\n",
       "      <td>True</td>\n",
       "    </tr>\n",
       "    <tr>\n",
       "      <th>9997</th>\n",
       "      <td>False</td>\n",
       "      <td>True</td>\n",
       "      <td>False</td>\n",
       "      <td>True</td>\n",
       "      <td>False</td>\n",
       "      <td>False</td>\n",
       "      <td>False</td>\n",
       "      <td>True</td>\n",
       "    </tr>\n",
       "    <tr>\n",
       "      <th>9998</th>\n",
       "      <td>False</td>\n",
       "      <td>True</td>\n",
       "      <td>False</td>\n",
       "      <td>False</td>\n",
       "      <td>False</td>\n",
       "      <td>False</td>\n",
       "      <td>False</td>\n",
       "      <td>True</td>\n",
       "    </tr>\n",
       "    <tr>\n",
       "      <th>9999</th>\n",
       "      <td>False</td>\n",
       "      <td>False</td>\n",
       "      <td>True</td>\n",
       "      <td>True</td>\n",
       "      <td>False</td>\n",
       "      <td>False</td>\n",
       "      <td>False</td>\n",
       "      <td>True</td>\n",
       "    </tr>\n",
       "  </tbody>\n",
       "</table>\n",
       "<p>10000 rows × 8 columns</p>\n",
       "</div>"
      ],
      "text/plain": [
       "          0      1      2      3      4      5      6      7\n",
       "0      True   True   True  False  False   True  False  False\n",
       "1     False   True   True  False   True  False  False  False\n",
       "2     False   True   True   True  False   True  False  False\n",
       "3      True  False  False  False  False  False   True   True\n",
       "4     False   True  False  False   True   True   True   True\n",
       "...     ...    ...    ...    ...    ...    ...    ...    ...\n",
       "9995   True  False   True  False  False  False   True   True\n",
       "9996  False  False   True  False  False  False  False   True\n",
       "9997  False   True  False   True  False  False  False   True\n",
       "9998  False   True  False  False  False  False  False   True\n",
       "9999  False  False   True   True  False  False  False   True\n",
       "\n",
       "[10000 rows x 8 columns]"
      ]
     },
     "execution_count": 43,
     "metadata": {},
     "output_type": "execute_result"
    }
   ],
   "source": [
    "coin_flip = pd.DataFrame(coin_flip)\n",
    "coin_flip"
   ]
  },
  {
   "cell_type": "code",
   "execution_count": 44,
   "id": "971f2d59",
   "metadata": {},
   "outputs": [],
   "source": [
    "sums_by_trial = pd.Series(sums_by_trial)"
   ]
  },
  {
   "cell_type": "code",
   "execution_count": 45,
   "id": "afc159ee",
   "metadata": {},
   "outputs": [],
   "source": [
    "coin_flip['sums_by_trial'] = sums_by_trial"
   ]
  },
  {
   "cell_type": "code",
   "execution_count": 46,
   "id": "147fabf2",
   "metadata": {},
   "outputs": [
    {
     "data": {
      "text/html": [
       "<div>\n",
       "<style scoped>\n",
       "    .dataframe tbody tr th:only-of-type {\n",
       "        vertical-align: middle;\n",
       "    }\n",
       "\n",
       "    .dataframe tbody tr th {\n",
       "        vertical-align: top;\n",
       "    }\n",
       "\n",
       "    .dataframe thead th {\n",
       "        text-align: right;\n",
       "    }\n",
       "</style>\n",
       "<table border=\"1\" class=\"dataframe\">\n",
       "  <thead>\n",
       "    <tr style=\"text-align: right;\">\n",
       "      <th></th>\n",
       "      <th>0</th>\n",
       "      <th>1</th>\n",
       "      <th>2</th>\n",
       "      <th>3</th>\n",
       "      <th>4</th>\n",
       "      <th>5</th>\n",
       "      <th>6</th>\n",
       "      <th>7</th>\n",
       "      <th>sums_by_trial</th>\n",
       "    </tr>\n",
       "  </thead>\n",
       "  <tbody>\n",
       "    <tr>\n",
       "      <th>0</th>\n",
       "      <td>True</td>\n",
       "      <td>True</td>\n",
       "      <td>True</td>\n",
       "      <td>False</td>\n",
       "      <td>False</td>\n",
       "      <td>True</td>\n",
       "      <td>False</td>\n",
       "      <td>False</td>\n",
       "      <td>4</td>\n",
       "    </tr>\n",
       "    <tr>\n",
       "      <th>1</th>\n",
       "      <td>False</td>\n",
       "      <td>True</td>\n",
       "      <td>True</td>\n",
       "      <td>False</td>\n",
       "      <td>True</td>\n",
       "      <td>False</td>\n",
       "      <td>False</td>\n",
       "      <td>False</td>\n",
       "      <td>3</td>\n",
       "    </tr>\n",
       "    <tr>\n",
       "      <th>2</th>\n",
       "      <td>False</td>\n",
       "      <td>True</td>\n",
       "      <td>True</td>\n",
       "      <td>True</td>\n",
       "      <td>False</td>\n",
       "      <td>True</td>\n",
       "      <td>False</td>\n",
       "      <td>False</td>\n",
       "      <td>4</td>\n",
       "    </tr>\n",
       "    <tr>\n",
       "      <th>3</th>\n",
       "      <td>True</td>\n",
       "      <td>False</td>\n",
       "      <td>False</td>\n",
       "      <td>False</td>\n",
       "      <td>False</td>\n",
       "      <td>False</td>\n",
       "      <td>True</td>\n",
       "      <td>True</td>\n",
       "      <td>3</td>\n",
       "    </tr>\n",
       "    <tr>\n",
       "      <th>4</th>\n",
       "      <td>False</td>\n",
       "      <td>True</td>\n",
       "      <td>False</td>\n",
       "      <td>False</td>\n",
       "      <td>True</td>\n",
       "      <td>True</td>\n",
       "      <td>True</td>\n",
       "      <td>True</td>\n",
       "      <td>5</td>\n",
       "    </tr>\n",
       "  </tbody>\n",
       "</table>\n",
       "</div>"
      ],
      "text/plain": [
       "       0      1      2      3      4      5      6      7  sums_by_trial\n",
       "0   True   True   True  False  False   True  False  False              4\n",
       "1  False   True   True  False   True  False  False  False              3\n",
       "2  False   True   True   True  False   True  False  False              4\n",
       "3   True  False  False  False  False  False   True   True              3\n",
       "4  False   True  False  False   True   True   True   True              5"
      ]
     },
     "execution_count": 46,
     "metadata": {},
     "output_type": "execute_result"
    }
   ],
   "source": [
    "coin_flip.head()"
   ]
  },
  {
   "cell_type": "code",
   "execution_count": 48,
   "id": "30115d13",
   "metadata": {},
   "outputs": [
    {
     "data": {
      "text/plain": [
       "0.2158"
      ]
     },
     "execution_count": 48,
     "metadata": {},
     "output_type": "execute_result"
    }
   ],
   "source": [
    "#Probability of getting exactly three heads\n",
    "len(coin_flip[sums_by_trial == 3]) / n_trials"
   ]
  },
  {
   "cell_type": "code",
   "execution_count": 49,
   "id": "a8294813",
   "metadata": {},
   "outputs": [
    {
     "data": {
      "text/plain": [
       "0.6448"
      ]
     },
     "execution_count": 49,
     "metadata": {},
     "output_type": "execute_result"
    }
   ],
   "source": [
    "#Probability of getting more than three heads\n",
    "len(coin_flip[sums_by_trial > 3]) / n_trials"
   ]
  },
  {
   "cell_type": "markdown",
   "id": "af73ce46",
   "metadata": {},
   "source": [
    "## Exercise 3"
   ]
  },
  {
   "cell_type": "code",
   "execution_count": 11,
   "id": "7d2fd785",
   "metadata": {},
   "outputs": [
    {
     "data": {
      "text/plain": [
       "array([[0.52367416, 0.30110826],\n",
       "       [0.22483308, 0.89903466],\n",
       "       [0.32563666, 0.01721882],\n",
       "       ...,\n",
       "       [0.46862724, 0.28377202],\n",
       "       [0.62598687, 0.95912283],\n",
       "       [0.44980969, 0.88367756]])"
      ]
     },
     "execution_count": 11,
     "metadata": {},
     "output_type": "execute_result"
    }
   ],
   "source": [
    "# There are approximitely 3 web development cohorts for every 1 data science cohort at Codeup. \n",
    "# Assuming that Codeup randomly selects an alumni to put on a billboard, what are the odds that\n",
    "# the two billboards I drive past both have data science students on them?\n",
    "\n",
    "p_ds = .25\n",
    "ndays = ncols = 2\n",
    "n_simulated_billboards = nrows = 10**5\n",
    "\n",
    "billboards = np.random.random(size =(nrows, ncols))\n",
    "billboards"
   ]
  },
  {
   "cell_type": "code",
   "execution_count": 12,
   "id": "44a825b7",
   "metadata": {},
   "outputs": [
    {
     "data": {
      "text/plain": [
       "array([['wd', 'wd'],\n",
       "       ['ds', 'wd'],\n",
       "       ['wd', 'wd'],\n",
       "       ...,\n",
       "       ['ds', 'wd'],\n",
       "       ['wd', 'wd'],\n",
       "       ['wd', 'wd']], dtype='<U2')"
      ]
     },
     "execution_count": 12,
     "metadata": {},
     "output_type": "execute_result"
    }
   ],
   "source": [
    "n_trials = nrows = 10_000 # reminder of rows and columns when putting into function\n",
    "n_simulated_billboards = ncols = 2\n",
    "#give array of options (1-6) and size \n",
    "billboards = np.random.choice(['ds', 'wd', 'wd', 'wd'], size = (nrows, ncols)) #this produces two dimensional array\n",
    "billboards"
   ]
  },
  {
   "cell_type": "code",
   "execution_count": 66,
   "id": "ae372c0c",
   "metadata": {},
   "outputs": [
    {
     "data": {
      "text/html": [
       "<div>\n",
       "<style scoped>\n",
       "    .dataframe tbody tr th:only-of-type {\n",
       "        vertical-align: middle;\n",
       "    }\n",
       "\n",
       "    .dataframe tbody tr th {\n",
       "        vertical-align: top;\n",
       "    }\n",
       "\n",
       "    .dataframe thead th {\n",
       "        text-align: right;\n",
       "    }\n",
       "</style>\n",
       "<table border=\"1\" class=\"dataframe\">\n",
       "  <thead>\n",
       "    <tr style=\"text-align: right;\">\n",
       "      <th></th>\n",
       "      <th>0</th>\n",
       "      <th>1</th>\n",
       "    </tr>\n",
       "  </thead>\n",
       "  <tbody>\n",
       "    <tr>\n",
       "      <th>0</th>\n",
       "      <td>wd</td>\n",
       "      <td>wd</td>\n",
       "    </tr>\n",
       "    <tr>\n",
       "      <th>1</th>\n",
       "      <td>wd</td>\n",
       "      <td>wd</td>\n",
       "    </tr>\n",
       "    <tr>\n",
       "      <th>2</th>\n",
       "      <td>wd</td>\n",
       "      <td>ds</td>\n",
       "    </tr>\n",
       "    <tr>\n",
       "      <th>3</th>\n",
       "      <td>wd</td>\n",
       "      <td>wd</td>\n",
       "    </tr>\n",
       "    <tr>\n",
       "      <th>4</th>\n",
       "      <td>wd</td>\n",
       "      <td>wd</td>\n",
       "    </tr>\n",
       "  </tbody>\n",
       "</table>\n",
       "</div>"
      ],
      "text/plain": [
       "    0   1\n",
       "0  wd  wd\n",
       "1  wd  wd\n",
       "2  wd  ds\n",
       "3  wd  wd\n",
       "4  wd  wd"
      ]
     },
     "execution_count": 66,
     "metadata": {},
     "output_type": "execute_result"
    }
   ],
   "source": [
    "billboards = pd.DataFrame(billboards)\n",
    "billboards.head()"
   ]
  },
  {
   "cell_type": "markdown",
   "id": "1b6b25f3",
   "metadata": {},
   "source": [
    "## Exercise 4"
   ]
  },
  {
   "cell_type": "code",
   "execution_count": 13,
   "id": "77156c71",
   "metadata": {},
   "outputs": [
    {
     "data": {
      "text/plain": [
       "array([[ 2.81664422,  1.35173249,  2.03247102,  3.35530891,  0.5284286 ],\n",
       "       [ 0.48000105,  5.62302284,  1.49474244,  5.37370423,  0.84555556],\n",
       "       [ 3.29196988,  3.71843058,  3.46730093,  3.58855209,  2.9884888 ],\n",
       "       ...,\n",
       "       [ 3.65388472,  4.2324115 ,  5.94731042,  4.02822281,  3.57656339],\n",
       "       [ 1.84367747,  2.68392896, -0.3187597 ,  4.13432659,  3.82791737],\n",
       "       [ 5.82546303,  4.32283373,  4.4112768 ,  1.21800755,  2.96792554]])"
      ]
     },
     "execution_count": 13,
     "metadata": {},
     "output_type": "execute_result"
    }
   ],
   "source": [
    "# Codeup students buy, on average, 3 poptart packages with a standard deviation of 1.5 a day from\n",
    "# the snack vending machine. If on monday the machine is restocked with 17 poptart packages, how likely \n",
    "# is it that I will be able to buy some poptarts on Friday afternoon? \n",
    "# (Remember, if you have mean and standard deviation, use the np.random.normal) You'll need \n",
    "# to make a judgement call on how to handle some of your values\n",
    "\n",
    "n_simulations = nrows = 10**5 # number of trials\n",
    "n_days = ncols = 5 # number of elements in each trial\n",
    "\n",
    "poptarts = np.random.normal(loc = 3.0, scale = 1.5, size = (nrows, n_days))\n",
    "poptarts"
   ]
  },
  {
   "cell_type": "code",
   "execution_count": 35,
   "id": "842681b0",
   "metadata": {},
   "outputs": [],
   "source": [
    "# Turn into a dataframe\n",
    "poptarts_df = pd.DataFrame(poptarts, columns=['day_1', 'day_2', 'day_3', 'day_4', 'day_5'])\n",
    "poptarts_df.head()\n",
    "weekly_poptarts = poptarts_df.sum(axis=1) # axis = 1 means by row\n",
    "len(poptarts_df[weekly_poptarts <= 16]) / len(poptarts_df)\n",
    "poptarts_df['weekly_poptarts'] = weekly_poptarts # append poptarts df with new row of total weekly poptarts"
   ]
  },
  {
   "cell_type": "code",
   "execution_count": 22,
   "id": "fb43a872",
   "metadata": {},
   "outputs": [
    {
     "data": {
      "text/plain": [
       "0.61472"
      ]
     },
     "execution_count": 22,
     "metadata": {},
     "output_type": "execute_result"
    }
   ],
   "source": [
    "friday_poptart = len(poptarts_df[weekly_poptarts <= 16]) / len(poptarts_df) # used boolean\n",
    "friday_poptart"
   ]
  },
  {
   "cell_type": "code",
   "execution_count": 40,
   "id": "a3ab3e97",
   "metadata": {},
   "outputs": [
    {
     "data": {
      "text/plain": [
       "0.61472"
      ]
     },
     "execution_count": 40,
     "metadata": {},
     "output_type": "execute_result"
    }
   ],
   "source": [
    "len(poptarts_df[weekly_poptarts <= 16]) / len(poptarts_df)"
   ]
  },
  {
   "cell_type": "markdown",
   "id": "db931fda",
   "metadata": {},
   "source": [
    "## Exercise 5"
   ]
  },
  {
   "cell_type": "code",
   "execution_count": null,
   "id": "1d6a8a7e",
   "metadata": {},
   "outputs": [],
   "source": [
    "#Compare Heights\n",
    "\n",
    "# Men have an average height of 178 cm and standard deviation of 8cm.\n",
    "# Women have a mean of 170, sd = 6cm.\n",
    "# Since you have means and standard deviations, you can use np.random.normal to generate observations. \n",
    "# If a man and woman are chosen at random, what is the likelihood the woman is taller than the man?"
   ]
  },
  {
   "cell_type": "code",
   "execution_count": 55,
   "id": "4a05ad11",
   "metadata": {},
   "outputs": [],
   "source": [
    "# Creating simulated height sample n 10_000\n",
    "w_height = np.random.normal(loc = 170, scale = 6, size = 10000)\n",
    "m_height = np.random.normal(loc = 178, scale = 8, size = 10000)\n",
    "#Turning arrays into series\n",
    "w_height = pd.Series(w_height) # turning array into series\n",
    "m_height = pd.Series(m_height)"
   ]
  },
  {
   "cell_type": "code",
   "execution_count": 60,
   "id": "712a25ba",
   "metadata": {},
   "outputs": [],
   "source": [
    "#turning series into dataframe\n",
    "w_height_df = pd.DataFrame(w_height)\n",
    "m_height_df = pd.DataFrame(m_height)\n",
    "height_df = pd.concat([w_height_df, m_height_df], axis=1)"
   ]
  },
  {
   "cell_type": "code",
   "execution_count": 64,
   "id": "cabda3ee",
   "metadata": {},
   "outputs": [],
   "source": [
    "#Make it presentable\n",
    "height_df.columns =['womens_height', 'mens_height']"
   ]
  },
  {
   "cell_type": "code",
   "execution_count": 74,
   "id": "25ecc4cb",
   "metadata": {},
   "outputs": [
    {
     "data": {
      "text/plain": [
       "0.2174"
      ]
     },
     "execution_count": 74,
     "metadata": {},
     "output_type": "execute_result"
    }
   ],
   "source": [
    "#Find out the likelihood that women are taller then men\n",
    "height_df.womens_height > height_df.mens_height # generates number of rows where this is the case\n",
    "height_df[height_df.womens_height > height_df.mens_height] # takes this list and applies to entire dataframe\n",
    "len(height_df[height_df.womens_height > height_df.mens_height]) # gets number of rows where this is true\n",
    "len(height_df[height_df.womens_height > height_df.mens_height]) / len(height_df) # probability where this is true"
   ]
  },
  {
   "cell_type": "markdown",
   "id": "a3d965af",
   "metadata": {},
   "source": [
    "## Exercise 6"
   ]
  },
  {
   "cell_type": "code",
   "execution_count": null,
   "id": "bb34a297",
   "metadata": {},
   "outputs": [],
   "source": [
    "# When installing anaconda on a student's computer, there's a 1 in 250 chance that the download is corrupted \n",
    "# and the installation fails. What are the odds that after having 50 students download anaconda, \n",
    "# no one has an installation issue? 100 students?\n",
    "# What is the probability that we observe an installation issue within the first 150 students that download anaconda?\n",
    "# How likely is it that 450 students all download anaconda without an issue?"
   ]
  },
  {
   "cell_type": "code",
   "execution_count": null,
   "id": "1bbd3699",
   "metadata": {},
   "outputs": [],
   "source": [
    "anaconda_sim = np.random.choice([True, False], size = (n, n_coin))"
   ]
  }
 ],
 "metadata": {
  "kernelspec": {
   "display_name": "Python 3 (ipykernel)",
   "language": "python",
   "name": "python3"
  },
  "language_info": {
   "codemirror_mode": {
    "name": "ipython",
    "version": 3
   },
   "file_extension": ".py",
   "mimetype": "text/x-python",
   "name": "python",
   "nbconvert_exporter": "python",
   "pygments_lexer": "ipython3",
   "version": "3.9.12"
  }
 },
 "nbformat": 4,
 "nbformat_minor": 5
}
